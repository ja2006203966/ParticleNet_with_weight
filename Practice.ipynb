{
 "cells": [
  {
   "cell_type": "code",
   "execution_count": 1,
   "metadata": {},
   "outputs": [
    {
     "name": "stderr",
     "output_type": "stream",
     "text": [
      "Using TensorFlow backend.\n"
     ]
    }
   ],
   "source": [
    "import numpy as np\n",
    "import awkward\n",
    "import logging\n",
    "logging.basicConfig(level=logging.INFO, format='[%(asctime)s] %(levelname)s: %(message)s')\n",
    "import numpy as np\n",
    "import scipy.optimize as opt\n",
    "import sys, os, random, gzip\n",
    "import tensorflow as tf\n",
    "from keras import backend as K\n",
    "from keras.models import *\n",
    "from keras.layers import *\n",
    "from keras.optimizers import Adam\n",
    "from keras.losses import categorical_crossentropy\n",
    "import pandas as pd\n",
    "# gpus = tf.config.experimental.list_physical_devices('GPU')\n",
    "# if gpus:\n",
    "#   # Restrict TensorFlow to only use the first GPU\n",
    "#     try:\n",
    "#         tf.config.experimental.set_visible_devices(gpus[0], 'GPU')\n",
    "#         tf.config.experimental.set_virtual_device_configuration(\n",
    "#         gpus[0],\n",
    "#         [tf.config.experimental.VirtualDeviceConfiguration(memory_limit=80000)])\n",
    "#         logical_gpus = tf.config.experimental.list_logical_devices('GPU')\n",
    "#         print(len(gpus), \"Physical GPUs,\", len(logical_gpus), \"Logical GPU\")\n",
    "#     except RuntimeError as e:\n",
    "#     # Visible devices must be set before GPUs have been initialized\n",
    "#         print(e)"
   ]
  },
  {
   "cell_type": "code",
   "execution_count": 2,
   "metadata": {},
   "outputs": [],
   "source": [
    "##========================================================data by pythia\n",
    "_e,_pt,_eta,_phi,_logpt,_loge=0,1,2,3,4,5\n",
    "def deltaPhi(phi1,phi2):\n",
    "    x = phi1-phi2\n",
    "    while x>= np.pi: x -= np.pi*2.\n",
    "    while x< -np.pi: x += np.pi*2.\n",
    "    return x\n",
    "\n",
    "def deltaR(eta1,phi1,eta2,phi2):\n",
    "    return (deltaPhi(phi1,phi2)**2+(eta1-eta2)**2)**0.5\n",
    "\n",
    "def find_main_axis(clist):\n",
    "    def fcn(p):\n",
    "        dir_x,dir_y = np.cos(p[0]),np.sin(p[0])\n",
    "        v = clist[(clist[:,_eta]**2+clist[:,_phi]**2)**0.5>1E-5]\n",
    "        cosang = np.abs(dir_x*v[:,_eta]+dir_y*v[:,_phi])/(v[:,_eta]**2+v[:,_phi]**2)**0.5\n",
    "        proj = (v[:,_pt]*cosang).sum()\n",
    "        return -proj\n",
    "    r = opt.minimize(fcn,[0.])\n",
    "    if r.success: return r.x[0]\n",
    "    else: return None\n",
    "def parse_jet_data(fin):\n",
    "    \n",
    "    \n",
    "#     if '<jet_data>' not in fin.readline().decode():\n",
    "#         print(\">>> ERROR: invalid input\", flush=True)\n",
    "#         sys.exit(0)\n",
    "    \n",
    "    data = {}\n",
    "#     features_list = {}\n",
    "    fin.readline().decode().split()\n",
    "    buf = fin.readline().decode().split() # jet kinematics\n",
    "    data['e'] = float(buf[0])\n",
    "    data['pt'] = float(buf[1])\n",
    "    data['eta'] = float(buf[2])\n",
    "    data['phi'] = float(buf[3])\n",
    "    data['nconstituents'] = int(buf[4])\n",
    "    fin.readline().decode().split()\n",
    "    clist, mask, features, points = [],np.zeros((100,1)), np.zeros((100,5)), np.zeros((100,2)) # prepare constituents list\n",
    "    if (data['nconstituents']<=100):\n",
    "        for i in range(data['nconstituents']):  ##particlenet need to be 100\n",
    "            #         _pt,_eta,_phi=1,2,3 #myfile use pt in index 1, eta->2,phi->3\n",
    "            var = [float(s) for s in fin.readline().decode().split()] # index, type(0:gen/1:track/2:Ecal/3:Hcal), pid, charge, pt, eta, phi, vx, vy, vz\n",
    "            var_logpt = np.log(var[_pt])\n",
    "            var_loge = np.log(var[_e])\n",
    "            var[_eta] = var[_eta]-data['eta']\n",
    "            var[_phi] = deltaPhi(var[_phi],data['phi'])\n",
    "            mask[i]=np.array([var_logpt])\n",
    "            features[i]=np.array([var_logpt,var_loge,var[_eta],var[_phi], var[_pt]/data['pt']] ) #last one is my argue\n",
    "            points[i]=np.array([var[_eta],var[_phi] ])#, var[_pt]/data['pt']])\n",
    "    else:\n",
    "        for i in range(data['nconstituents']):\n",
    "            fin.readline().decode().split()\n",
    "       \n",
    "\n",
    "#     clist = np.array(clist)\n",
    "#     features_list['mask']=np.array(mask)\n",
    "#     features_list['points']=np.array(points)\n",
    "#     features_list['features']=np.array(features)\n",
    "#     dir = find_main_axis(clist) ##rotation\n",
    "#     if dir!=None:\n",
    "#         dir = -dir # rotation everything to x-axis\n",
    "#         clist[:,_eta], clist[:,_phi] = np.cos(dir)*clist[:,_eta]-np.sin(dir)*clist[:,_phi], np.sin(dir)*clist[:,_eta]+np.cos(dir)*clist[:,_phi]\n",
    "\n",
    "    \n",
    "    return mask.tolist(), features.tolist(), points.tolist()\n",
    "def prepare(n,fin,skip=0):\n",
    "    fin=gzip.open(fin)\n",
    "    features_list = {}\n",
    "    mask, features, points = [],[],[]\n",
    "    for i in range(n):\n",
    "        a, b, c = parse_jet_data(fin)\n",
    "        if(i>skip):    \n",
    "            mask.append(a)\n",
    "            features.append(b)\n",
    "            points.append(c)\n",
    "    features_list['mask']=mask\n",
    "    features_list['points']=points\n",
    "    features_list['features']=features\n",
    "    return features_list\n",
    "    \n",
    "def separatedata(features_list,y,rateval,ratetest):\n",
    "    features_train, features_test, features_val={},{},{}\n",
    "    from sklearn.model_selection import train_test_split\n",
    "    mask = features_list[\"mask\"]\n",
    "    features = features_list[\"features\"]\n",
    "    points = features_list[\"points\"]\n",
    "    X_ind = [i for i in range(len(y))]\n",
    "    X_train, X_ind, y_train, y_ind = train_test_split(X_ind, y, test_size=rateval+ratetest)\n",
    "    N=int(len(X_ind)*rateval/(rateval+ratetest))\n",
    "    X_val, X_test = X_ind[:N], X_ind[N:]\n",
    "    y_val, y_test = y_ind[:N], y_ind[N:]\n",
    "    features_train['mask']=np.array([mask[i] for i in X_train])\n",
    "    features_train['features']=np.array([features[i] for i in X_train])\n",
    "    features_train['points']=np.array([points[i] for i in X_train])\n",
    "    \n",
    "    features_test['mask']=np.array([mask[i] for i in X_test])\n",
    "    features_test['features']=np.array([features[i] for i in X_test])\n",
    "    features_test['points']=np.array([points[i] for i in X_test])\n",
    "    \n",
    "    features_val['mask']=np.array([mask[i] for i in X_val])\n",
    "    features_val['features']=np.array([features[i] for i in X_val])\n",
    "    features_val['points']=np.array([points[i] for i in X_val])\n",
    "    \n",
    "    return features_train, features_val, features_test,np.array(y_train), np.array(y_val), np.array(y_test) \n",
    "def merging(gg,qq):\n",
    "    total={}\n",
    "    total['mask']=gg[\"mask\"]+qq[\"mask\"]\n",
    "    total['features']=gg[\"features\"]+qq[\"features\"]\n",
    "    total['points']=gg['points']+qq['points']\n",
    "    return total\n",
    "def input_trans( X_test, y_test):\n",
    "    features_test = {}\n",
    "    \n",
    "    features_test['mask']=np.array([i for i in X_test[\"mask\"]])\n",
    "    features_test['features']=np.array([i for i in X_test[\"features\"]])\n",
    "    features_test['points']=np.array([i for i in X_test[\"points\"]])\n",
    "    return features_test, np.array(y_test) "
   ]
  },
  {
   "cell_type": "code",
   "execution_count": null,
   "metadata": {},
   "outputs": [],
   "source": [
    "from my_particlenet import get_MCGCNN"
   ]
  },
  {
   "cell_type": "code",
   "execution_count": null,
   "metadata": {},
   "outputs": [],
   "source": [
    "get_MCGCNN"
   ]
  },
  {
   "cell_type": "code",
   "execution_count": null,
   "metadata": {},
   "outputs": [],
   "source": [
    " edge_conv(points, ptw, features, num_points, K, channels)"
   ]
  },
  {
   "cell_type": "code",
   "execution_count": 3,
   "metadata": {},
   "outputs": [],
   "source": [
    "class MCECBlock(tf.keras.Model): #Muti-EdgeConv Block\n",
    "    def __init__(self, points, ptw, features, num_points, K, channels):\n",
    "        super(MCECBlock, self).__init__(name='')\n",
    "        ch1, ch2, ch3 = channels\n",
    "        pts1, pts2, pts3 = points\n",
    "        fts1, fts2, fts3 = features\n",
    "        k1, k2, k3 = 2, 5, 10\n",
    "        nump1, nump2, nump3 = num_points\n",
    "        self.econv2a = edge_conv(pts1, ptw, fts1, nump1, k1, ch1)\n",
    "        \n",
    "        self.econv2b = edge_conv(pts2, ptw, fts2, nump2, k2, ch2)\n",
    "       \n",
    "        self.econv2c = edge_conv(pts3, ptw, fts3, nump3, k3, ch3)\n",
    "      \n",
    "        \n",
    "    def call(self, input_tensor, training=False):\n",
    "        x1 = self.conv2a(input_tensor)\n",
    "        \n",
    "        x2 = self.conv2b(input_tensor)\n",
    "        \n",
    "        x3 = self.conv2c(input_tensor)\n",
    "        \n",
    "        x = tf.concat([x1,x2,x3], axis=-1)\n",
    "        x = tf.math.reduce_max(x, axis = -1)\n",
    "        return x\n",
    "\n"
   ]
  },
  {
   "cell_type": "code",
   "execution_count": null,
   "metadata": {},
   "outputs": [],
   "source": [
    "from my_particlenet import get_MCGCNN"
   ]
  },
  {
   "cell_type": "code",
   "execution_count": null,
   "metadata": {},
   "outputs": [],
   "source": []
  },
  {
   "cell_type": "code",
   "execution_count": 5,
   "metadata": {},
   "outputs": [],
   "source": [
    "## load data\n",
    "eventg, eventq = '../mygraph/model/myeventsgg2.txt.gz', '../mygraph/model/myeventsqq2.txt.gz'\n",
    "n=50000\n",
    "gg = prepare(n,eventg)\n",
    "n=24000\n",
    "qq1 = prepare(n,eventq)\n",
    "eventq = '../mygraph/model/myeventsqq1.txt.gz'\n",
    "n=26000\n",
    "qq2 = prepare(n,eventq)\n",
    "qq = merging(qq2,qq1)\n",
    "\n",
    "y=[[0,1] for i in range(len(gg['mask']))]+[[1,0] for i in range(len(qq['mask']))] ##?????????????????\n",
    "total = merging(gg,qq)\n",
    "\n",
    "# del gg, qq, eventg, eventq\n",
    "del gg, qq, eventg, eventq, qq1, qq2\n",
    "\n",
    "X_train, X_val, X_test, y_train, y_val, y_test = separatedata(total,y,0.3,0.1)"
   ]
  },
  {
   "cell_type": "code",
   "execution_count": null,
   "metadata": {},
   "outputs": [],
   "source": [
    "path = '/home/ja2006203966/event/Pythia/firstjet/'\n",
    "eventg, eventq = path+'myevents'+'gg'+'__tot.txt.gz', path+'myevents'+'qq'+'__tot.txt.gz'\n",
    "n=100000\n",
    "gg = prepare(n,eventg)\n",
    "qq = prepare(n,eventq)\n",
    "y=[[0,1] for i in range(len(gg['mask']))]+[[1,0] for i in range(len(qq['mask']))] ##?????????????????\n",
    "total = merging(gg,qq)\n",
    "# del gg, qq, eventg, eventq\n",
    "del gg, qq, eventg, eventq\n",
    "\n",
    "X_train, X_val, X_test, y_train, y_val, y_test = separatedata(total,y,0.1,0.1)"
   ]
  },
  {
   "cell_type": "code",
   "execution_count": 13,
   "metadata": {},
   "outputs": [],
   "source": [
    "path = '/home/ja2006203966/event/Pythia/firstjet/'\n",
    "eventg, eventq = path+'myevents'+'gg'+'__tot.txt.gz', path+'myevents'+'qq'+'__tot.txt.gz'\n",
    "n=1000000\n",
    "N=10 # num you want to split\n",
    "for i in range(N):\n",
    "    gg = prepare(int(n/N)*(i+1),eventg,skip=int(i*n/N))\n",
    "    qq = prepare(int(n/N)*(i+1),eventq,skip=int(i*n/N))\n",
    "    y=[[0,1] for i in range(len(gg['mask']))]+[[1,0] for i in range(len(qq['mask']))] ##?????????????????\n",
    "    total = merging(gg,qq)\n",
    "    del gg, qq\n",
    "    X_train, X_val, X_test, y_train, y_val, y_test = separatedata(total,y,0.1,0.1)\n",
    "    np.save(\"./X_train\"+str(i),X_train)\n",
    "    np.save(\"./X_val\"+str(i),X_val)\n",
    "    np.save(\"./X_test\"+str(i),X_test) \n",
    "    np.save(\"./y_train\"+str(i),y_train)\n",
    "    np.save(\"./y_val\"+str(i),y_val)\n",
    "    np.save(\"./y_test\"+str(i),y_test)\n",
    "    "
   ]
  },
  {
   "cell_type": "code",
   "execution_count": 12,
   "metadata": {},
   "outputs": [
    {
     "data": {
      "text/plain": [
       "100000"
      ]
     },
     "execution_count": 12,
     "metadata": {},
     "output_type": "execute_result"
    }
   ],
   "source": [
    "int(n/N)"
   ]
  },
  {
   "cell_type": "code",
   "execution_count": 7,
   "metadata": {},
   "outputs": [
    {
     "data": {
      "text/plain": [
       "100000.0"
      ]
     },
     "execution_count": 7,
     "metadata": {},
     "output_type": "execute_result"
    }
   ],
   "source": [
    "n/N"
   ]
  },
  {
   "cell_type": "code",
   "execution_count": null,
   "metadata": {},
   "outputs": [],
   "source": []
  },
  {
   "cell_type": "code",
   "execution_count": 6,
   "metadata": {},
   "outputs": [],
   "source": [
    "X_train, X_val, X_test, y_train, y_val, y_test = separatedata(total,y,0.1,0.1)"
   ]
  },
  {
   "cell_type": "code",
   "execution_count": 8,
   "metadata": {},
   "outputs": [],
   "source": [
    "np.save(\"./X_train\",X_train)\n",
    "np.save(\"./X_val\",X_val)\n",
    "np.save(\"./X_test\",X_test)\n",
    "np.save(\"./y_train\",y_train)\n",
    "np.save(\"./y_val\",y_val)\n",
    "np.save(\"./y_test\",y_test)"
   ]
  },
  {
   "cell_type": "code",
   "execution_count": null,
   "metadata": {},
   "outputs": [],
   "source": [
    "   "
   ]
  },
  {
   "cell_type": "code",
   "execution_count": null,
   "metadata": {},
   "outputs": [],
   "source": [
    "## if you want to use same test data with 2PCNN\n",
    "eventg, eventq = './myeventsgg3.txt.gz', './myeventsqq3.txt.gz'\n",
    "n=5000\n",
    "gg = prepare(n,eventg)\n",
    "qq = prepare(n,eventq)\n",
    "y=[[0,1] for i in range(len(gg['mask']))]+[[1,0] for i in range(len(qq['mask']))] ##?????????????????\n",
    "total = merging(gg,qq)\n",
    "X_test, y_test = input_trans(total,y)"
   ]
  },
  {
   "cell_type": "code",
   "execution_count": 20,
   "metadata": {},
   "outputs": [],
   "source": []
  },
  {
   "cell_type": "code",
   "execution_count": 2,
   "metadata": {},
   "outputs": [],
   "source": [
    "\n",
    "\n",
    "import tensorflow as tf\n",
    "from tensorflow import keras\n",
    "# from my_particlenet import get_MCGCNN, get_particle_net\n",
    "# from MCGCNN2 import get_MCGCNN, get_particle_net\n",
    "from MCGCNN3 import get_MCGCNN, get_particle_net\n",
    "# from tf_keras_model import get_particle_net, get_particle_net_lite"
   ]
  },
  {
   "cell_type": "code",
   "execution_count": 21,
   "metadata": {},
   "outputs": [],
   "source": [
    "##self\n",
    "\n",
    "# model_type = 'particle_net'\n",
    "input_shapes={'points': (100, 2), 'features': (100, 5), 'mask': (100, 1)}\n",
    "num_classes = 2\n",
    "w =  -2 ## weights you can choose (it is added by myself, and I use the 5-th as the weight term)\n",
    "model = get_MCGCNN(num_classes, input_shapes, w=w, K=16)\n",
    "\n",
    "# model = get_particle_net(num_classes, input_shapes, w=w)"
   ]
  },
  {
   "cell_type": "code",
   "execution_count": 3,
   "metadata": {},
   "outputs": [],
   "source": [
    " points = keras.Input(name='points', shape=input_shapes['points'])"
   ]
  },
  {
   "cell_type": "code",
   "execution_count": 8,
   "metadata": {},
   "outputs": [
    {
     "data": {
      "text/plain": [
       "<tf.Tensor 'input_1:0' shape=(None, 100, 2) dtype=float32>"
      ]
     },
     "execution_count": 8,
     "metadata": {},
     "output_type": "execute_result"
    }
   ],
   "source": [
    " keras.Input( shape = points.shape[1:])"
   ]
  },
  {
   "cell_type": "code",
   "execution_count": 5,
   "metadata": {},
   "outputs": [
    {
     "data": {
      "text/plain": [
       "<tf.Tensor 'points_1:0' shape=(None, 100, 2) dtype=float32>"
      ]
     },
     "execution_count": 5,
     "metadata": {},
     "output_type": "execute_result"
    }
   ],
   "source": [
    "pts1"
   ]
  },
  {
   "cell_type": "code",
   "execution_count": 2,
   "metadata": {},
   "outputs": [],
   "source": [
    "# Training parameters\n",
    "batch_size = 200\n",
    "epochs = 200"
   ]
  },
  {
   "cell_type": "code",
   "execution_count": 5,
   "metadata": {},
   "outputs": [],
   "source": [
    "# def lr_schedule(epoch):\n",
    "#     lr = 1e-3\n",
    "#     if epoch > 10:\n",
    "#         lr *= 0.1\n",
    "#     elif epoch > 20:\n",
    "#         lr *= 0.01\n",
    "#     logging.info('Learning rate: %f'%lr)\n",
    "#     return lr\n",
    "def lr_schedule(epoch):\n",
    "    lr = 2e-2\n",
    "    n = 10\n",
    "    if epoch > 10:\n",
    "        lr *= 1/n\n",
    "    if epoch > 20:\n",
    "        lr *= 1/n\n",
    "    if epoch > 30:\n",
    "        lr *= 1/n\n",
    "    if epoch > 40:\n",
    "        lr *= 1/n\n",
    "    if epoch > 50:\n",
    "        lr *= 1/n\n",
    "    if epoch > 60:\n",
    "        lr *= 1/n\n",
    "    if epoch > 70:\n",
    "        lr *= 1/n\n",
    "#     if epoch > 16:\n",
    "#         lr *= 1/n\n",
    "#     if epoch > 21:\n",
    "#         lr *= 1/n\n",
    "#     if epoch > 26:\n",
    "#         lr *= 1/n\n",
    "#     if epoch > 31:\n",
    "#         lr *= 1/n\n",
    "#     if epoch > 36:\n",
    "#         lr *= 1/n\n",
    "#     if epoch > 41:\n",
    "#         lr *= 1/n\n",
    "    logging.info('Learning rate: %f'%lr)\n",
    "    return lr"
   ]
  },
  {
   "cell_type": "code",
   "execution_count": 24,
   "metadata": {},
   "outputs": [
    {
     "name": "stdout",
     "output_type": "stream",
     "text": [
      "Model: \"MCGCNN\"\n",
      "__________________________________________________________________________________________________\n",
      "Layer (type)                    Output Shape         Param #     Connected to                     \n",
      "==================================================================================================\n",
      "features (InputLayer)           [(None, 100, 5)]     0                                            \n",
      "__________________________________________________________________________________________________\n",
      "tf_op_layer_ExpandDims (TensorF [(None, 100, 1, 5)]  0           features[0][0]                   \n",
      "__________________________________________________________________________________________________\n",
      "tf_op_layer_ExpandDims_7 (Tenso [(None, 100, 1, 5)]  0           features[0][0]                   \n",
      "__________________________________________________________________________________________________\n",
      "MCGCNN1_fts_bn (BatchNormalizat (None, 100, 1, 5)    20          tf_op_layer_ExpandDims[0][0]     \n",
      "__________________________________________________________________________________________________\n",
      "MCGCNN2_fts_bn (BatchNormalizat (None, 100, 1, 5)    20          tf_op_layer_ExpandDims_7[0][0]   \n",
      "__________________________________________________________________________________________________\n",
      "tf_op_layer_ExpandDims_14 (Tens [(None, 100, 1, 5)]  0           features[0][0]                   \n",
      "__________________________________________________________________________________________________\n",
      "tf_op_layer_Squeeze (TensorFlow [(None, 100, 5)]     0           MCGCNN1_fts_bn[0][0]             \n",
      "__________________________________________________________________________________________________\n",
      "tf_op_layer_Squeeze_2 (TensorFl [(None, 100, 5)]     0           MCGCNN2_fts_bn[0][0]             \n",
      "__________________________________________________________________________________________________\n",
      "MCGCNN3_fts_bn (BatchNormalizat (None, 100, 1, 5)    20          tf_op_layer_ExpandDims_14[0][0]  \n",
      "__________________________________________________________________________________________________\n",
      "tf_op_layer_strided_slice_1 (Te [(None, 100)]        0           tf_op_layer_Squeeze[0][0]        \n",
      "__________________________________________________________________________________________________\n",
      "tf_op_layer_strided_slice_5 (Te [(None, 100)]        0           tf_op_layer_Squeeze_2[0][0]      \n",
      "__________________________________________________________________________________________________\n",
      "tf_op_layer_Squeeze_4 (TensorFl [(None, 100, 5)]     0           MCGCNN3_fts_bn[0][0]             \n",
      "__________________________________________________________________________________________________\n",
      "tf_op_layer_ExpandDims_1 (Tenso [(None, 100, 1)]     0           tf_op_layer_strided_slice_1[0][0]\n",
      "__________________________________________________________________________________________________\n",
      "tf_op_layer_ExpandDims_8 (Tenso [(None, 100, 1)]     0           tf_op_layer_strided_slice_5[0][0]\n",
      "__________________________________________________________________________________________________\n",
      "tf_op_layer_strided_slice_9 (Te [(None, 100)]        0           tf_op_layer_Squeeze_4[0][0]      \n",
      "__________________________________________________________________________________________________\n",
      "points (InputLayer)             [(None, 100, 2)]     0                                            \n",
      "__________________________________________________________________________________________________\n",
      "tf_op_layer_transpose_2 (Tensor [(None, 1, 100)]     0           tf_op_layer_ExpandDims_1[0][0]   \n",
      "__________________________________________________________________________________________________\n",
      "tf_op_layer_transpose_5 (Tensor [(None, 1, 100)]     0           tf_op_layer_ExpandDims_8[0][0]   \n",
      "__________________________________________________________________________________________________\n",
      "tf_op_layer_ExpandDims_15 (Tens [(None, 100, 1)]     0           tf_op_layer_strided_slice_9[0][0]\n",
      "__________________________________________________________________________________________________\n",
      "tf_op_layer_strided_slice (Tens [(None, 100, 2)]     0           points[0][0]                     \n",
      "__________________________________________________________________________________________________\n",
      "tf_op_layer_Tile (TensorFlowOpL [(None, 100, 100)]   0           tf_op_layer_ExpandDims_1[0][0]   \n",
      "__________________________________________________________________________________________________\n",
      "tf_op_layer_Tile_1 (TensorFlowO [(None, 100, 100)]   0           tf_op_layer_transpose_2[0][0]    \n",
      "__________________________________________________________________________________________________\n",
      "tf_op_layer_strided_slice_4 (Te [(None, 100, 2)]     0           points[0][0]                     \n",
      "__________________________________________________________________________________________________\n",
      "tf_op_layer_Tile_4 (TensorFlowO [(None, 100, 100)]   0           tf_op_layer_ExpandDims_8[0][0]   \n",
      "__________________________________________________________________________________________________\n",
      "tf_op_layer_Tile_5 (TensorFlowO [(None, 100, 100)]   0           tf_op_layer_transpose_5[0][0]    \n",
      "__________________________________________________________________________________________________\n",
      "tf_op_layer_strided_slice_8 (Te [(None, 100, 2)]     0           points[0][0]                     \n",
      "__________________________________________________________________________________________________\n",
      "tf_op_layer_transpose_8 (Tensor [(None, 1, 100)]     0           tf_op_layer_ExpandDims_15[0][0]  \n",
      "__________________________________________________________________________________________________\n",
      "tf_op_layer_transpose (TensorFl [(None, 2, 100)]     0           tf_op_layer_strided_slice[0][0]  \n",
      "__________________________________________________________________________________________________\n",
      "tf_op_layer_ExpandDims_2 (Tenso [(None, 100, 100, 1) 0           tf_op_layer_Tile[0][0]           \n",
      "__________________________________________________________________________________________________\n",
      "tf_op_layer_ExpandDims_3 (Tenso [(None, 100, 100, 1) 0           tf_op_layer_Tile_1[0][0]         \n",
      "__________________________________________________________________________________________________\n",
      "tf_op_layer_transpose_3 (Tensor [(None, 2, 100)]     0           tf_op_layer_strided_slice_4[0][0]\n",
      "__________________________________________________________________________________________________\n",
      "tf_op_layer_ExpandDims_9 (Tenso [(None, 100, 100, 1) 0           tf_op_layer_Tile_4[0][0]         \n",
      "__________________________________________________________________________________________________\n",
      "tf_op_layer_ExpandDims_10 (Tens [(None, 100, 100, 1) 0           tf_op_layer_Tile_5[0][0]         \n",
      "__________________________________________________________________________________________________\n",
      "tf_op_layer_transpose_6 (Tensor [(None, 2, 100)]     0           tf_op_layer_strided_slice_8[0][0]\n",
      "__________________________________________________________________________________________________\n",
      "tf_op_layer_Tile_8 (TensorFlowO [(None, 100, 100)]   0           tf_op_layer_ExpandDims_15[0][0]  \n",
      "__________________________________________________________________________________________________\n",
      "tf_op_layer_Tile_9 (TensorFlowO [(None, 100, 100)]   0           tf_op_layer_transpose_8[0][0]    \n",
      "__________________________________________________________________________________________________\n",
      "tf_op_layer_mul_1 (TensorFlowOp [(None, 100, 2)]     0           tf_op_layer_strided_slice[0][0]  \n",
      "                                                                 tf_op_layer_strided_slice[0][0]  \n",
      "__________________________________________________________________________________________________\n",
      "tf_op_layer_MatMul (TensorFlowO [(None, 100, 100)]   0           tf_op_layer_strided_slice[0][0]  \n",
      "                                                                 tf_op_layer_transpose[0][0]      \n",
      "__________________________________________________________________________________________________\n",
      "tf_op_layer_mul_2 (TensorFlowOp [(None, 100, 2)]     0           tf_op_layer_strided_slice[0][0]  \n",
      "                                                                 tf_op_layer_strided_slice[0][0]  \n",
      "__________________________________________________________________________________________________\n",
      "tf_op_layer_concat (TensorFlowO [(None, 100, 100, 2) 0           tf_op_layer_ExpandDims_2[0][0]   \n",
      "                                                                 tf_op_layer_ExpandDims_3[0][0]   \n",
      "__________________________________________________________________________________________________\n",
      "tf_op_layer_mul_7 (TensorFlowOp [(None, 100, 2)]     0           tf_op_layer_strided_slice_4[0][0]\n",
      "                                                                 tf_op_layer_strided_slice_4[0][0]\n",
      "__________________________________________________________________________________________________\n",
      "tf_op_layer_MatMul_1 (TensorFlo [(None, 100, 100)]   0           tf_op_layer_strided_slice_4[0][0]\n",
      "                                                                 tf_op_layer_transpose_3[0][0]    \n",
      "__________________________________________________________________________________________________\n",
      "tf_op_layer_mul_8 (TensorFlowOp [(None, 100, 2)]     0           tf_op_layer_strided_slice_4[0][0]\n",
      "                                                                 tf_op_layer_strided_slice_4[0][0]\n",
      "__________________________________________________________________________________________________\n",
      "tf_op_layer_concat_3 (TensorFlo [(None, 100, 100, 2) 0           tf_op_layer_ExpandDims_9[0][0]   \n",
      "                                                                 tf_op_layer_ExpandDims_10[0][0]  \n",
      "__________________________________________________________________________________________________\n",
      "tf_op_layer_mul_13 (TensorFlowO [(None, 100, 2)]     0           tf_op_layer_strided_slice_8[0][0]\n",
      "                                                                 tf_op_layer_strided_slice_8[0][0]\n",
      "__________________________________________________________________________________________________\n",
      "tf_op_layer_MatMul_2 (TensorFlo [(None, 100, 100)]   0           tf_op_layer_strided_slice_8[0][0]\n",
      "                                                                 tf_op_layer_transpose_6[0][0]    \n",
      "__________________________________________________________________________________________________\n",
      "tf_op_layer_mul_14 (TensorFlowO [(None, 100, 2)]     0           tf_op_layer_strided_slice_8[0][0]\n",
      "                                                                 tf_op_layer_strided_slice_8[0][0]\n",
      "__________________________________________________________________________________________________\n",
      "tf_op_layer_ExpandDims_16 (Tens [(None, 100, 100, 1) 0           tf_op_layer_Tile_8[0][0]         \n",
      "__________________________________________________________________________________________________\n",
      "tf_op_layer_ExpandDims_17 (Tens [(None, 100, 100, 1) 0           tf_op_layer_Tile_9[0][0]         \n",
      "__________________________________________________________________________________________________\n",
      "tf_op_layer_Sum (TensorFlowOpLa [(None, 100, 1)]     0           tf_op_layer_mul_1[0][0]          \n",
      "__________________________________________________________________________________________________\n",
      "tf_op_layer_mul_3 (TensorFlowOp [(None, 100, 100)]   0           tf_op_layer_MatMul[0][0]         \n",
      "__________________________________________________________________________________________________\n",
      "tf_op_layer_Sum_1 (TensorFlowOp [(None, 100, 1)]     0           tf_op_layer_mul_2[0][0]          \n",
      "__________________________________________________________________________________________________\n",
      "tf_op_layer_Max (TensorFlowOpLa [(None, 100, 100)]   0           tf_op_layer_concat[0][0]         \n",
      "__________________________________________________________________________________________________\n",
      "tf_op_layer_Sum_2 (TensorFlowOp [(None, 100, 1)]     0           tf_op_layer_mul_7[0][0]          \n",
      "__________________________________________________________________________________________________\n",
      "tf_op_layer_mul_9 (TensorFlowOp [(None, 100, 100)]   0           tf_op_layer_MatMul_1[0][0]       \n",
      "__________________________________________________________________________________________________\n",
      "tf_op_layer_Sum_3 (TensorFlowOp [(None, 100, 1)]     0           tf_op_layer_mul_8[0][0]          \n",
      "__________________________________________________________________________________________________\n",
      "tf_op_layer_Max_1 (TensorFlowOp [(None, 100, 100)]   0           tf_op_layer_concat_3[0][0]       \n",
      "__________________________________________________________________________________________________\n",
      "tf_op_layer_Sum_4 (TensorFlowOp [(None, 100, 1)]     0           tf_op_layer_mul_13[0][0]         \n",
      "__________________________________________________________________________________________________\n",
      "tf_op_layer_mul_15 (TensorFlowO [(None, 100, 100)]   0           tf_op_layer_MatMul_2[0][0]       \n",
      "__________________________________________________________________________________________________\n",
      "tf_op_layer_Sum_5 (TensorFlowOp [(None, 100, 1)]     0           tf_op_layer_mul_14[0][0]         \n",
      "__________________________________________________________________________________________________\n",
      "tf_op_layer_concat_6 (TensorFlo [(None, 100, 100, 2) 0           tf_op_layer_ExpandDims_16[0][0]  \n",
      "                                                                 tf_op_layer_ExpandDims_17[0][0]  \n",
      "__________________________________________________________________________________________________\n",
      "tf_op_layer_sub (TensorFlowOpLa [(None, 100, 100)]   0           tf_op_layer_Sum[0][0]            \n",
      "                                                                 tf_op_layer_mul_3[0][0]          \n",
      "__________________________________________________________________________________________________\n",
      "tf_op_layer_transpose_1 (Tensor [(None, 1, 100)]     0           tf_op_layer_Sum_1[0][0]          \n",
      "__________________________________________________________________________________________________\n",
      "tf_op_layer_truediv (TensorFlow [(None, 100, 100)]   0           tf_op_layer_Max[0][0]            \n",
      "__________________________________________________________________________________________________\n",
      "tf_op_layer_sub_2 (TensorFlowOp [(None, 100, 100)]   0           tf_op_layer_Sum_2[0][0]          \n",
      "                                                                 tf_op_layer_mul_9[0][0]          \n",
      "__________________________________________________________________________________________________\n",
      "tf_op_layer_transpose_4 (Tensor [(None, 1, 100)]     0           tf_op_layer_Sum_3[0][0]          \n",
      "__________________________________________________________________________________________________\n",
      "tf_op_layer_truediv_1 (TensorFl [(None, 100, 100)]   0           tf_op_layer_Max_1[0][0]          \n",
      "__________________________________________________________________________________________________\n",
      "tf_op_layer_sub_4 (TensorFlowOp [(None, 100, 100)]   0           tf_op_layer_Sum_4[0][0]          \n",
      "                                                                 tf_op_layer_mul_15[0][0]         \n",
      "__________________________________________________________________________________________________\n",
      "tf_op_layer_transpose_7 (Tensor [(None, 1, 100)]     0           tf_op_layer_Sum_5[0][0]          \n",
      "__________________________________________________________________________________________________\n",
      "tf_op_layer_Max_2 (TensorFlowOp [(None, 100, 100)]   0           tf_op_layer_concat_6[0][0]       \n",
      "__________________________________________________________________________________________________\n",
      "tf_op_layer_add (TensorFlowOpLa [(None, 100, 100)]   0           tf_op_layer_sub[0][0]            \n",
      "                                                                 tf_op_layer_transpose_1[0][0]    \n",
      "__________________________________________________________________________________________________\n",
      "tf_op_layer_pow (TensorFlowOpLa [(None, 100, 100)]   0           tf_op_layer_truediv[0][0]        \n",
      "__________________________________________________________________________________________________\n",
      "tf_op_layer_add_2 (TensorFlowOp [(None, 100, 100)]   0           tf_op_layer_sub_2[0][0]          \n",
      "                                                                 tf_op_layer_transpose_4[0][0]    \n",
      "__________________________________________________________________________________________________\n",
      "tf_op_layer_pow_1 (TensorFlowOp [(None, 100, 100)]   0           tf_op_layer_truediv_1[0][0]      \n",
      "__________________________________________________________________________________________________\n",
      "tf_op_layer_add_4 (TensorFlowOp [(None, 100, 100)]   0           tf_op_layer_sub_4[0][0]          \n",
      "                                                                 tf_op_layer_transpose_7[0][0]    \n",
      "__________________________________________________________________________________________________\n",
      "tf_op_layer_pow_2 (TensorFlowOp [(None, 100, 100)]   0           tf_op_layer_Max_2[0][0]          \n",
      "__________________________________________________________________________________________________\n",
      "tf_op_layer_Shape (TensorFlowOp [(3,)]               0           tf_op_layer_Squeeze[0][0]        \n",
      "__________________________________________________________________________________________________\n",
      "tf_op_layer_mul_4 (TensorFlowOp [(None, 100, 100)]   0           tf_op_layer_add[0][0]            \n",
      "                                                                 tf_op_layer_pow[0][0]            \n",
      "__________________________________________________________________________________________________\n",
      "tf_op_layer_Shape_1 (TensorFlow [(3,)]               0           tf_op_layer_Squeeze_2[0][0]      \n",
      "__________________________________________________________________________________________________\n",
      "tf_op_layer_mul_10 (TensorFlowO [(None, 100, 100)]   0           tf_op_layer_add_2[0][0]          \n",
      "                                                                 tf_op_layer_pow_1[0][0]          \n",
      "__________________________________________________________________________________________________\n",
      "tf_op_layer_Shape_2 (TensorFlow [(3,)]               0           tf_op_layer_Squeeze_4[0][0]      \n",
      "__________________________________________________________________________________________________\n",
      "tf_op_layer_mul_16 (TensorFlowO [(None, 100, 100)]   0           tf_op_layer_add_4[0][0]          \n",
      "                                                                 tf_op_layer_pow_2[0][0]          \n",
      "__________________________________________________________________________________________________\n",
      "tf_op_layer_strided_slice_3 (Te [()]                 0           tf_op_layer_Shape[0][0]          \n",
      "__________________________________________________________________________________________________\n",
      "tf_op_layer_Neg (TensorFlowOpLa [(None, 100, 100)]   0           tf_op_layer_mul_4[0][0]          \n",
      "__________________________________________________________________________________________________\n",
      "tf_op_layer_strided_slice_7 (Te [()]                 0           tf_op_layer_Shape_1[0][0]        \n",
      "__________________________________________________________________________________________________\n",
      "tf_op_layer_Neg_1 (TensorFlowOp [(None, 100, 100)]   0           tf_op_layer_mul_10[0][0]         \n",
      "__________________________________________________________________________________________________\n",
      "tf_op_layer_strided_slice_11 (T [()]                 0           tf_op_layer_Shape_2[0][0]        \n",
      "__________________________________________________________________________________________________\n",
      "tf_op_layer_Neg_2 (TensorFlowOp [(None, 100, 100)]   0           tf_op_layer_mul_16[0][0]         \n",
      "__________________________________________________________________________________________________\n",
      "tf_op_layer_range (TensorFlowOp [(None,)]            0           tf_op_layer_strided_slice_3[0][0]\n",
      "__________________________________________________________________________________________________\n",
      "tf_op_layer_TopKV2 (TensorFlowO [(None, 100, 17), (N 0           tf_op_layer_Neg[0][0]            \n",
      "__________________________________________________________________________________________________\n",
      "tf_op_layer_range_1 (TensorFlow [(None,)]            0           tf_op_layer_strided_slice_7[0][0]\n",
      "__________________________________________________________________________________________________\n",
      "tf_op_layer_TopKV2_1 (TensorFlo [(None, 100, 17), (N 0           tf_op_layer_Neg_1[0][0]          \n",
      "__________________________________________________________________________________________________\n",
      "tf_op_layer_range_2 (TensorFlow [(None,)]            0           tf_op_layer_strided_slice_11[0][0\n",
      "__________________________________________________________________________________________________\n",
      "tf_op_layer_TopKV2_2 (TensorFlo [(None, 100, 17), (N 0           tf_op_layer_Neg_2[0][0]          \n",
      "__________________________________________________________________________________________________\n",
      "tf_op_layer_Reshape (TensorFlow [(None, 1, 1, 1)]    0           tf_op_layer_range[0][0]          \n",
      "__________________________________________________________________________________________________\n",
      "tf_op_layer_strided_slice_2 (Te [(None, 100, 16)]    0           tf_op_layer_TopKV2[0][1]         \n",
      "__________________________________________________________________________________________________\n",
      "tf_op_layer_Reshape_1 (TensorFl [(None, 1, 1, 1)]    0           tf_op_layer_range_1[0][0]        \n",
      "__________________________________________________________________________________________________\n",
      "tf_op_layer_strided_slice_6 (Te [(None, 100, 16)]    0           tf_op_layer_TopKV2_1[0][1]       \n",
      "__________________________________________________________________________________________________\n",
      "tf_op_layer_Reshape_2 (TensorFl [(None, 1, 1, 1)]    0           tf_op_layer_range_2[0][0]        \n",
      "__________________________________________________________________________________________________\n",
      "tf_op_layer_strided_slice_10 (T [(None, 100, 16)]    0           tf_op_layer_TopKV2_2[0][1]       \n",
      "__________________________________________________________________________________________________\n",
      "tf_op_layer_Tile_2 (TensorFlowO [(None, 100, 16, 1)] 0           tf_op_layer_Reshape[0][0]        \n",
      "__________________________________________________________________________________________________\n",
      "tf_op_layer_ExpandDims_4 (Tenso [(None, 100, 16, 1)] 0           tf_op_layer_strided_slice_2[0][0]\n",
      "__________________________________________________________________________________________________\n",
      "tf_op_layer_Tile_6 (TensorFlowO [(None, 100, 16, 1)] 0           tf_op_layer_Reshape_1[0][0]      \n",
      "__________________________________________________________________________________________________\n",
      "tf_op_layer_ExpandDims_11 (Tens [(None, 100, 16, 1)] 0           tf_op_layer_strided_slice_6[0][0]\n",
      "__________________________________________________________________________________________________\n",
      "tf_op_layer_Tile_10 (TensorFlow [(None, 100, 16, 1)] 0           tf_op_layer_Reshape_2[0][0]      \n",
      "__________________________________________________________________________________________________\n",
      "tf_op_layer_ExpandDims_18 (Tens [(None, 100, 16, 1)] 0           tf_op_layer_strided_slice_10[0][0\n",
      "__________________________________________________________________________________________________\n",
      "tf_op_layer_ExpandDims_5 (Tenso [(None, 100, 1, 5)]  0           tf_op_layer_Squeeze[0][0]        \n",
      "__________________________________________________________________________________________________\n",
      "tf_op_layer_concat_1 (TensorFlo [(None, 100, 16, 2)] 0           tf_op_layer_Tile_2[0][0]         \n",
      "                                                                 tf_op_layer_ExpandDims_4[0][0]   \n",
      "__________________________________________________________________________________________________\n",
      "tf_op_layer_ExpandDims_12 (Tens [(None, 100, 1, 5)]  0           tf_op_layer_Squeeze_2[0][0]      \n",
      "__________________________________________________________________________________________________\n",
      "tf_op_layer_concat_4 (TensorFlo [(None, 100, 16, 2)] 0           tf_op_layer_Tile_6[0][0]         \n",
      "                                                                 tf_op_layer_ExpandDims_11[0][0]  \n",
      "__________________________________________________________________________________________________\n",
      "tf_op_layer_ExpandDims_19 (Tens [(None, 100, 1, 5)]  0           tf_op_layer_Squeeze_4[0][0]      \n",
      "__________________________________________________________________________________________________\n",
      "tf_op_layer_concat_7 (TensorFlo [(None, 100, 16, 2)] 0           tf_op_layer_Tile_10[0][0]        \n",
      "                                                                 tf_op_layer_ExpandDims_18[0][0]  \n",
      "__________________________________________________________________________________________________\n",
      "tf_op_layer_Tile_3 (TensorFlowO [(None, 100, 16, 5)] 0           tf_op_layer_ExpandDims_5[0][0]   \n",
      "__________________________________________________________________________________________________\n",
      "tf_op_layer_GatherNd (TensorFlo [(None, 100, 16, 5)] 0           tf_op_layer_Squeeze[0][0]        \n",
      "                                                                 tf_op_layer_concat_1[0][0]       \n",
      "__________________________________________________________________________________________________\n",
      "tf_op_layer_Tile_7 (TensorFlowO [(None, 100, 16, 5)] 0           tf_op_layer_ExpandDims_12[0][0]  \n",
      "__________________________________________________________________________________________________\n",
      "tf_op_layer_GatherNd_1 (TensorF [(None, 100, 16, 5)] 0           tf_op_layer_Squeeze_2[0][0]      \n",
      "                                                                 tf_op_layer_concat_4[0][0]       \n",
      "__________________________________________________________________________________________________\n",
      "tf_op_layer_Tile_11 (TensorFlow [(None, 100, 16, 5)] 0           tf_op_layer_ExpandDims_19[0][0]  \n",
      "__________________________________________________________________________________________________\n",
      "tf_op_layer_GatherNd_2 (TensorF [(None, 100, 16, 5)] 0           tf_op_layer_Squeeze_4[0][0]      \n",
      "                                                                 tf_op_layer_concat_7[0][0]       \n",
      "__________________________________________________________________________________________________\n",
      "tf_op_layer_Sub_1 (TensorFlowOp [(None, 100, 16, 5)] 0           tf_op_layer_GatherNd[0][0]       \n",
      "                                                                 tf_op_layer_Tile_3[0][0]         \n",
      "__________________________________________________________________________________________________\n",
      "tf_op_layer_Sub_3 (TensorFlowOp [(None, 100, 16, 5)] 0           tf_op_layer_GatherNd_1[0][0]     \n",
      "                                                                 tf_op_layer_Tile_7[0][0]         \n",
      "__________________________________________________________________________________________________\n",
      "tf_op_layer_Sub_5 (TensorFlowOp [(None, 100, 16, 5)] 0           tf_op_layer_GatherNd_2[0][0]     \n",
      "                                                                 tf_op_layer_Tile_11[0][0]        \n",
      "__________________________________________________________________________________________________\n",
      "tf_op_layer_concat_2 (TensorFlo [(None, 100, 16, 10) 0           tf_op_layer_Tile_3[0][0]         \n",
      "                                                                 tf_op_layer_Sub_1[0][0]          \n",
      "__________________________________________________________________________________________________\n",
      "tf_op_layer_concat_5 (TensorFlo [(None, 100, 16, 10) 0           tf_op_layer_Tile_7[0][0]         \n",
      "                                                                 tf_op_layer_Sub_3[0][0]          \n",
      "__________________________________________________________________________________________________\n",
      "tf_op_layer_concat_8 (TensorFlo [(None, 100, 16, 10) 0           tf_op_layer_Tile_11[0][0]        \n",
      "                                                                 tf_op_layer_Sub_5[0][0]          \n",
      "__________________________________________________________________________________________________\n",
      "MCGCNN1_EdgeConv0_conv0 (Conv2D (None, 100, 16, 32)  320         tf_op_layer_concat_2[0][0]       \n",
      "__________________________________________________________________________________________________\n",
      "MCGCNN2_EdgeConv0_conv0 (Conv2D (None, 100, 16, 32)  320         tf_op_layer_concat_5[0][0]       \n",
      "__________________________________________________________________________________________________\n",
      "MCGCNN3_EdgeConv0_conv0 (Conv2D (None, 100, 16, 32)  320         tf_op_layer_concat_8[0][0]       \n",
      "__________________________________________________________________________________________________\n",
      "MCGCNN1_EdgeConv0_bn0 (BatchNor (None, 100, 16, 32)  128         MCGCNN1_EdgeConv0_conv0[0][0]    \n",
      "__________________________________________________________________________________________________\n",
      "MCGCNN2_EdgeConv0_bn0 (BatchNor (None, 100, 16, 32)  128         MCGCNN2_EdgeConv0_conv0[0][0]    \n",
      "__________________________________________________________________________________________________\n",
      "MCGCNN3_EdgeConv0_bn0 (BatchNor (None, 100, 16, 32)  128         MCGCNN3_EdgeConv0_conv0[0][0]    \n",
      "__________________________________________________________________________________________________\n",
      "MCGCNN1_EdgeConv0_act0 (Activat (None, 100, 16, 32)  0           MCGCNN1_EdgeConv0_bn0[0][0]      \n",
      "__________________________________________________________________________________________________\n",
      "MCGCNN2_EdgeConv0_act0 (Activat (None, 100, 16, 32)  0           MCGCNN2_EdgeConv0_bn0[0][0]      \n",
      "__________________________________________________________________________________________________\n",
      "MCGCNN3_EdgeConv0_act0 (Activat (None, 100, 16, 32)  0           MCGCNN3_EdgeConv0_bn0[0][0]      \n",
      "__________________________________________________________________________________________________\n",
      "MCGCNN1_EdgeConv0_conv1 (Conv2D (None, 100, 16, 32)  1024        MCGCNN1_EdgeConv0_act0[0][0]     \n",
      "__________________________________________________________________________________________________\n",
      "MCGCNN2_EdgeConv0_conv1 (Conv2D (None, 100, 16, 32)  1024        MCGCNN2_EdgeConv0_act0[0][0]     \n",
      "__________________________________________________________________________________________________\n",
      "MCGCNN3_EdgeConv0_conv1 (Conv2D (None, 100, 16, 32)  1024        MCGCNN3_EdgeConv0_act0[0][0]     \n",
      "__________________________________________________________________________________________________\n",
      "MCGCNN1_EdgeConv0_bn1 (BatchNor (None, 100, 16, 32)  128         MCGCNN1_EdgeConv0_conv1[0][0]    \n",
      "__________________________________________________________________________________________________\n",
      "MCGCNN2_EdgeConv0_bn1 (BatchNor (None, 100, 16, 32)  128         MCGCNN2_EdgeConv0_conv1[0][0]    \n",
      "__________________________________________________________________________________________________\n",
      "MCGCNN3_EdgeConv0_bn1 (BatchNor (None, 100, 16, 32)  128         MCGCNN3_EdgeConv0_conv1[0][0]    \n",
      "__________________________________________________________________________________________________\n",
      "MCGCNN1_EdgeConv0_act1 (Activat (None, 100, 16, 32)  0           MCGCNN1_EdgeConv0_bn1[0][0]      \n",
      "__________________________________________________________________________________________________\n",
      "MCGCNN2_EdgeConv0_act1 (Activat (None, 100, 16, 32)  0           MCGCNN2_EdgeConv0_bn1[0][0]      \n",
      "__________________________________________________________________________________________________\n",
      "MCGCNN3_EdgeConv0_act1 (Activat (None, 100, 16, 32)  0           MCGCNN3_EdgeConv0_bn1[0][0]      \n",
      "__________________________________________________________________________________________________\n",
      "tf_op_layer_ExpandDims_6 (Tenso [(None, 100, 1, 5)]  0           tf_op_layer_Squeeze[0][0]        \n",
      "__________________________________________________________________________________________________\n",
      "MCGCNN1_EdgeConv0_conv2 (Conv2D (None, 100, 16, 32)  1024        MCGCNN1_EdgeConv0_act1[0][0]     \n",
      "__________________________________________________________________________________________________\n",
      "tf_op_layer_ExpandDims_13 (Tens [(None, 100, 1, 5)]  0           tf_op_layer_Squeeze_2[0][0]      \n",
      "__________________________________________________________________________________________________\n",
      "MCGCNN2_EdgeConv0_conv2 (Conv2D (None, 100, 16, 32)  1024        MCGCNN2_EdgeConv0_act1[0][0]     \n",
      "__________________________________________________________________________________________________\n",
      "tf_op_layer_ExpandDims_20 (Tens [(None, 100, 1, 5)]  0           tf_op_layer_Squeeze_4[0][0]      \n",
      "__________________________________________________________________________________________________\n",
      "MCGCNN3_EdgeConv0_conv2 (Conv2D (None, 100, 16, 32)  1024        MCGCNN3_EdgeConv0_act1[0][0]     \n",
      "__________________________________________________________________________________________________\n",
      "MCGCNN1_EdgeConv0_sc_conv (Conv (None, 100, 1, 32)   160         tf_op_layer_ExpandDims_6[0][0]   \n",
      "__________________________________________________________________________________________________\n",
      "MCGCNN1_EdgeConv0_bn2 (BatchNor (None, 100, 16, 32)  128         MCGCNN1_EdgeConv0_conv2[0][0]    \n",
      "__________________________________________________________________________________________________\n",
      "MCGCNN2_EdgeConv0_sc_conv (Conv (None, 100, 1, 32)   160         tf_op_layer_ExpandDims_13[0][0]  \n",
      "__________________________________________________________________________________________________\n",
      "MCGCNN2_EdgeConv0_bn2 (BatchNor (None, 100, 16, 32)  128         MCGCNN2_EdgeConv0_conv2[0][0]    \n",
      "__________________________________________________________________________________________________\n",
      "MCGCNN3_EdgeConv0_sc_conv (Conv (None, 100, 1, 32)   160         tf_op_layer_ExpandDims_20[0][0]  \n",
      "__________________________________________________________________________________________________\n",
      "MCGCNN3_EdgeConv0_bn2 (BatchNor (None, 100, 16, 32)  128         MCGCNN3_EdgeConv0_conv2[0][0]    \n",
      "__________________________________________________________________________________________________\n",
      "MCGCNN1_EdgeConv0_sc_bn (BatchN (None, 100, 1, 32)   128         MCGCNN1_EdgeConv0_sc_conv[0][0]  \n",
      "__________________________________________________________________________________________________\n",
      "MCGCNN1_EdgeConv0_act2 (Activat (None, 100, 16, 32)  0           MCGCNN1_EdgeConv0_bn2[0][0]      \n",
      "__________________________________________________________________________________________________\n",
      "MCGCNN2_EdgeConv0_sc_bn (BatchN (None, 100, 1, 32)   128         MCGCNN2_EdgeConv0_sc_conv[0][0]  \n",
      "__________________________________________________________________________________________________\n",
      "MCGCNN2_EdgeConv0_act2 (Activat (None, 100, 16, 32)  0           MCGCNN2_EdgeConv0_bn2[0][0]      \n",
      "__________________________________________________________________________________________________\n",
      "MCGCNN3_EdgeConv0_sc_bn (BatchN (None, 100, 1, 32)   128         MCGCNN3_EdgeConv0_sc_conv[0][0]  \n",
      "__________________________________________________________________________________________________\n",
      "MCGCNN3_EdgeConv0_act2 (Activat (None, 100, 16, 32)  0           MCGCNN3_EdgeConv0_bn2[0][0]      \n",
      "__________________________________________________________________________________________________\n",
      "tf_op_layer_Squeeze_1 (TensorFl [(None, 100, 32)]    0           MCGCNN1_EdgeConv0_sc_bn[0][0]    \n",
      "__________________________________________________________________________________________________\n",
      "tf_op_layer_Mean (TensorFlowOpL [(None, 100, 32)]    0           MCGCNN1_EdgeConv0_act2[0][0]     \n",
      "__________________________________________________________________________________________________\n",
      "mask (InputLayer)               [(None, 100, 1)]     0                                            \n",
      "__________________________________________________________________________________________________\n",
      "tf_op_layer_Squeeze_3 (TensorFl [(None, 100, 32)]    0           MCGCNN2_EdgeConv0_sc_bn[0][0]    \n",
      "__________________________________________________________________________________________________\n",
      "tf_op_layer_Mean_2 (TensorFlowO [(None, 100, 32)]    0           MCGCNN2_EdgeConv0_act2[0][0]     \n",
      "__________________________________________________________________________________________________\n",
      "tf_op_layer_Squeeze_5 (TensorFl [(None, 100, 32)]    0           MCGCNN3_EdgeConv0_sc_bn[0][0]    \n",
      "__________________________________________________________________________________________________\n",
      "tf_op_layer_Mean_4 (TensorFlowO [(None, 100, 32)]    0           MCGCNN3_EdgeConv0_act2[0][0]     \n",
      "__________________________________________________________________________________________________\n",
      "tf_op_layer_add_1 (TensorFlowOp [(None, 100, 32)]    0           tf_op_layer_Squeeze_1[0][0]      \n",
      "                                                                 tf_op_layer_Mean[0][0]           \n",
      "__________________________________________________________________________________________________\n",
      "tf_op_layer_NotEqual (TensorFlo [(None, 100, 1)]     0           mask[0][0]                       \n",
      "__________________________________________________________________________________________________\n",
      "tf_op_layer_add_3 (TensorFlowOp [(None, 100, 32)]    0           tf_op_layer_Squeeze_3[0][0]      \n",
      "                                                                 tf_op_layer_Mean_2[0][0]         \n",
      "__________________________________________________________________________________________________\n",
      "tf_op_layer_NotEqual_1 (TensorF [(None, 100, 1)]     0           mask[0][0]                       \n",
      "__________________________________________________________________________________________________\n",
      "tf_op_layer_add_5 (TensorFlowOp [(None, 100, 32)]    0           tf_op_layer_Squeeze_5[0][0]      \n",
      "                                                                 tf_op_layer_Mean_4[0][0]         \n",
      "__________________________________________________________________________________________________\n",
      "tf_op_layer_NotEqual_2 (TensorF [(None, 100, 1)]     0           mask[0][0]                       \n",
      "__________________________________________________________________________________________________\n",
      "MCGCNN1_EdgeConv0_sc_act (Activ (None, 100, 32)      0           tf_op_layer_add_1[0][0]          \n",
      "__________________________________________________________________________________________________\n",
      "tf_op_layer_Cast (TensorFlowOpL [(None, 100, 1)]     0           tf_op_layer_NotEqual[0][0]       \n",
      "__________________________________________________________________________________________________\n",
      "MCGCNN2_EdgeConv0_sc_act (Activ (None, 100, 32)      0           tf_op_layer_add_3[0][0]          \n",
      "__________________________________________________________________________________________________\n",
      "tf_op_layer_Cast_2 (TensorFlowO [(None, 100, 1)]     0           tf_op_layer_NotEqual_1[0][0]     \n",
      "__________________________________________________________________________________________________\n",
      "MCGCNN3_EdgeConv0_sc_act (Activ (None, 100, 32)      0           tf_op_layer_add_5[0][0]          \n",
      "__________________________________________________________________________________________________\n",
      "tf_op_layer_Cast_4 (TensorFlowO [(None, 100, 1)]     0           tf_op_layer_NotEqual_2[0][0]     \n",
      "__________________________________________________________________________________________________\n",
      "tf_op_layer_Mul_5 (TensorFlowOp [(None, 100, 32)]    0           MCGCNN1_EdgeConv0_sc_act[0][0]   \n",
      "                                                                 tf_op_layer_Cast[0][0]           \n",
      "__________________________________________________________________________________________________\n",
      "tf_op_layer_Mul_11 (TensorFlowO [(None, 100, 32)]    0           MCGCNN2_EdgeConv0_sc_act[0][0]   \n",
      "                                                                 tf_op_layer_Cast_2[0][0]         \n",
      "__________________________________________________________________________________________________\n",
      "tf_op_layer_Mul_17 (TensorFlowO [(None, 100, 32)]    0           MCGCNN3_EdgeConv0_sc_act[0][0]   \n",
      "                                                                 tf_op_layer_Cast_4[0][0]         \n",
      "__________________________________________________________________________________________________\n",
      "tf_op_layer_Mean_1 (TensorFlowO [(None, 32)]         0           tf_op_layer_Mul_5[0][0]          \n",
      "__________________________________________________________________________________________________\n",
      "tf_op_layer_Mean_3 (TensorFlowO [(None, 32)]         0           tf_op_layer_Mul_11[0][0]         \n",
      "__________________________________________________________________________________________________\n",
      "tf_op_layer_Mean_5 (TensorFlowO [(None, 32)]         0           tf_op_layer_Mul_17[0][0]         \n",
      "__________________________________________________________________________________________________\n",
      "tf_op_layer_ExpandDims_21 (Tens [(None, 32, 1)]      0           tf_op_layer_Mean_1[0][0]         \n",
      "__________________________________________________________________________________________________\n",
      "tf_op_layer_ExpandDims_22 (Tens [(None, 32, 1)]      0           tf_op_layer_Mean_3[0][0]         \n",
      "__________________________________________________________________________________________________\n",
      "tf_op_layer_ExpandDims_23 (Tens [(None, 32, 1)]      0           tf_op_layer_Mean_5[0][0]         \n",
      "__________________________________________________________________________________________________\n",
      "tf_op_layer_concat_9 (TensorFlo [(None, 32, 3)]      0           tf_op_layer_ExpandDims_21[0][0]  \n",
      "                                                                 tf_op_layer_ExpandDims_22[0][0]  \n",
      "                                                                 tf_op_layer_ExpandDims_23[0][0]  \n",
      "__________________________________________________________________________________________________\n",
      "tf_op_layer_ExpandDims_24 (Tens [(None, 32, 3, 1)]   0           tf_op_layer_concat_9[0][0]       \n",
      "__________________________________________________________________________________________________\n",
      "MCGCNN_final_weight (Conv2D)    (None, 32, 3, 300)   600         tf_op_layer_ExpandDims_24[0][0]  \n",
      "__________________________________________________________________________________________________\n",
      "MCGCNN_final_bias (BatchNormali (None, 32, 3, 300)   1200        MCGCNN_final_weight[0][0]        \n",
      "__________________________________________________________________________________________________\n",
      "MCGCNN_final_relu (Activation)  (None, 32, 3, 300)   0           MCGCNN_final_bias[0][0]          \n",
      "__________________________________________________________________________________________________\n",
      "tf_op_layer_Max_3 (TensorFlowOp [(None, 32, 300)]    0           MCGCNN_final_relu[0][0]          \n",
      "__________________________________________________________________________________________________\n",
      "flatten (Flatten)               (None, 9600)         0           tf_op_layer_Max_3[0][0]          \n",
      "__________________________________________________________________________________________________\n",
      "dense (Dense)                   (None, 256)          2457856     flatten[0][0]                    \n",
      "__________________________________________________________________________________________________\n",
      "dropout (Dropout)               (None, 256)          0           dense[0][0]                      \n",
      "__________________________________________________________________________________________________\n",
      "dense_1 (Dense)                 (None, 2)            514         dropout[0][0]                    \n",
      "==================================================================================================\n",
      "Total params: 2,469,350\n",
      "Trainable params: 2,467,952\n",
      "Non-trainable params: 1,398\n",
      "__________________________________________________________________________________________________\n"
     ]
    }
   ],
   "source": [
    "model.compile(loss='categorical_crossentropy',\n",
    "              optimizer=keras.optimizers.Adam(),\n",
    "              metrics=['accuracy'])\n",
    "# optimizer=keras.optimizers.Adam(learning_rate=lr_schedule(0))\n",
    "model.summary()"
   ]
  },
  {
   "cell_type": "code",
   "execution_count": 2,
   "metadata": {},
   "outputs": [],
   "source": [
    "# model = tf.keras.models.load_model('./MCGCNN.h5')  \n",
    "model = tf.keras.models.load_model('./train/MCGCNN.h5')  \n"
   ]
  },
  {
   "cell_type": "code",
   "execution_count": 5,
   "metadata": {},
   "outputs": [],
   "source": [
    "# Prepare model model saving directory.\n",
    "import os\n",
    "model_type = \"MCGCNN\"\n",
    "save_dir = './model_checkpoints'\n",
    "model_name = '%s_model.test.h5' % model_type\n",
    "if not os.path.isdir(save_dir):\n",
    "    os.makedirs(save_dir)\n",
    "filepath = os.path.join(save_dir, model_name)\n",
    "\n",
    "# Prepare callbacks for model saving and for learning rate adjustment.\n",
    "checkpoint = keras.callbacks.ModelCheckpoint(filepath=filepath,\n",
    "                             monitor='val_acc',\n",
    "                             verbose=1,\n",
    "                             save_best_only=True)\n",
    "\n",
    "# lr_scheduler = keras.callbacks.LearningRateScheduler(lr_schedule)\n",
    "\n",
    "progress_bar = keras.callbacks.ProgbarLogger()\n",
    "csv_logger = keras.callbacks.CSVLogger('./myparticlenet_training_log.csv')\n",
    "earlystop = tf.keras.callbacks.EarlyStopping(\n",
    "                            monitor='val_loss',\n",
    "                            min_delta=1e-4,\n",
    "                            patience=10,\n",
    "                            verbose=1,\n",
    "                            mode='min', baseline=None, ## 'min' \n",
    "                            restore_best_weights=True)\n",
    "# callbacks = [checkpoint, lr_scheduler, progress_bar]\n",
    "reduce_lr = tf.keras.callbacks.ReduceLROnPlateau(monitor='val_loss', factor=0.2,\n",
    "                              patience=2, min_lr=0.00001)\n",
    "# callbacks = [checkpoint, reduce_lr, csv_logger, progress_bar, earlystop ] ## [checkpoint, lr_scheduler, csv_logger, progress_bar, earlystop ]\n",
    "callbacks = [checkpoint, csv_logger, progress_bar, earlystop ]\n",
    "### Add checkpoints\n",
    "##########################################################################################################\n",
    "# check_list=[]\n",
    "# checkpoint = tf.keras.callbacks.ModelCheckpoint (monitor='val_loss',\n",
    "#                              filepath='./mymodel.h5',\n",
    "#                              save_best_only=True,\n",
    "#                              verbose=1)\n",
    "# earlystop = tf.keras.callbacks.EarlyStopping(\n",
    "#                             monitor='val_loss',\n",
    "#                             min_delta=0,\n",
    "#                             patience=50,\n",
    "#                             verbose=1,\n",
    "#                             mode='min', baseline=None,\n",
    "#                             restore_best_weights=True)\n",
    "\n",
    "# csv_logger = tf.keras.callbacks.CSVLogger('./training_log.csv')\n",
    "# check_list.append(checkpoint)\n",
    "# check_list.append(earlystop)\n",
    "# check_list.append(csv_logger)\n",
    "##########################################################################################################"
   ]
  },
  {
   "cell_type": "code",
   "execution_count": 6,
   "metadata": {},
   "outputs": [],
   "source": [
    "from sklearn.metrics import roc_curve, auc\n",
    "import pandas as pd\n",
    "import csv\n",
    "import matplotlib.pyplot as plt\n",
    "import pickle"
   ]
  },
  {
   "cell_type": "code",
   "execution_count": 41,
   "metadata": {},
   "outputs": [],
   "source": [
    "LOSS0 = pd.read_csv('./myparticlenet_training_log.csv')\n",
    "# label = []\n",
    "# for i in LOSS0:\n",
    "#     label.append(i)\n"
   ]
  },
  {
   "cell_type": "code",
   "execution_count": null,
   "metadata": {},
   "outputs": [
    {
     "name": "stdout",
     "output_type": "stream",
     "text": [
      "epochs=  0 / 200 \tbatch=  0 / 10\n",
      "Train on 159998 samples, validate on 200000 samples\n"
     ]
    }
   ],
   "source": [
    "path = '/home/ja2006203966/event/Pythia/firstjet/'\n",
    "eventg, eventq = path+'myevents'+'gg'+'__tot.txt.gz', path+'myevents'+'qq'+'__tot.txt.gz'\n",
    "X_val = np.load(\"./X_val.npy\",allow_pickle=True)\n",
    "X_val = X_val.item()\n",
    "y_val = np.load(\"./y_val.npy\",allow_pickle=True)\n",
    "# n=1000000\n",
    "valm = [99999,0]\n",
    "earlystop_n = 2\n",
    "LOSS0 = 0\n",
    "N=10 # num you want to split\n",
    "for j in range(epochs):\n",
    "    if (j-valm[1]>earlystop_n):\n",
    "        break\n",
    "    for i in range(N):\n",
    "        print(\"epochs= \" ,j, \"/\",epochs, \"\\tbatch= \", i, \"/\",N)\n",
    "        X_train = np.load(\"./X_train\"+str(i)+\".npy\",allow_pickle=True)\n",
    "        X_train = X_train.item()\n",
    "#         X_val = np.load(\"./X_val\"+str(i)+\".npy\",allow_pickle=True)\n",
    "#         X_val = X_val.item()\n",
    "#         X_test = np.load(\"./X_test\"+str(i)+\".npy\",allow_pickle=True)\n",
    "#         X_test = X_test.item() \n",
    "        \n",
    "        y_train = np.load(\"./y_train\"+str(i)+\".npy\",allow_pickle=True)\n",
    "#         y_val = np.load(\"./y_val\"+str(i)+\".npy\",allow_pickle=True)\n",
    "#         y_test = np.load(\"./y_test\"+str(i)+\".npy\",allow_pickle=True)\n",
    "        model.fit(X_train, y_train,batch_size=batch_size,epochs=1, validation_data=(X_val, y_val), shuffle=True , callbacks=callbacks)\n",
    "        val = model.evaluate(X_val,  y_val, verbose=2)\n",
    "        LOSS1 = pd.read_csv('./myparticlenet_training_log.csv')\n",
    "        LOSS1['epoch'][0] = j\n",
    "        if (i==0)&(j==0):\n",
    "            LOSS0 = LOSS1\n",
    "            LOSS0.to_csv(\"./checkpoint.csv\")\n",
    "        else:\n",
    "            LOSS0 = LOSS0.append(LOSS1, ignore_index=True)\n",
    "            LOSS0.to_csv(\"./checkpoint.csv\")\n",
    "        del X_train, y_train\n",
    "        if (round(val[0],4)<round(valm[0],4)):\n",
    "            model.save('./MCGCNN.h5')\n",
    "#             model.save('./ParticleNet.h5')\n",
    "            valm[0] = val[0]\n",
    "            valm[1] = j\n",
    "            \n",
    "        \n"
   ]
  },
  {
   "cell_type": "code",
   "execution_count": 8,
   "metadata": {},
   "outputs": [],
   "source": [
    "def merging_np(gg,qq,gy,qy):\n",
    "    total={} \n",
    "    total['mask']= np.array( gg[\"mask\"].tolist()+qq[\"mask\"].tolist() )\n",
    "    total['features']= np.array( gg[\"features\"].tolist()+qq[\"features\"].tolist())\n",
    "    total['points'] = np.array( gg['points'].tolist()+qq['points'].tolist()) \n",
    "    ty = np.array(gy.tolist() + qy.tolist()) \n",
    "    return total, ty "
   ]
  },
  {
   "cell_type": "code",
   "execution_count": null,
   "metadata": {},
   "outputs": [],
   "source": []
  },
  {
   "cell_type": "code",
   "execution_count": 9,
   "metadata": {},
   "outputs": [],
   "source": [
    "# N=10\n",
    "# for i in range(N):\n",
    "#     X_test = np.load(\"./X_test\"+str(i)+\".npy\",allow_pickle=True)\n",
    "#     X_test = X_test.item()  \n",
    "#     y_test = np.load(\"./y_test\"+str(i)+\".npy\",allow_pickle=True)\n",
    "#     if (i==0):\n",
    "#         test_X = X_test\n",
    "#         test_y = y_test\n",
    "#         continue\n",
    "#     test_X, test_y = merging_np(test_X, X_test, test_y, y_test )\n",
    "# X_test = test_X\n",
    "# y_test = test_y\n",
    "# np.save(\"./X_test\",X_test) \n",
    "# np.save(\"./y_test\",y_test)\n",
    "\n",
    "# del test_X, test_y\n",
    "    \n",
    "    \n",
    "        \n",
    "    "
   ]
  },
  {
   "cell_type": "code",
   "execution_count": 19,
   "metadata": {},
   "outputs": [],
   "source": [
    "# N=10\n",
    "# for i in range(N):\n",
    "#     X_val = np.load(\"./X_val\"+str(i)+\".npy\",allow_pickle=True)\n",
    "#     X_val = X_val.item()  \n",
    "#     y_val = np.load(\"./y_val\"+str(i)+\".npy\",allow_pickle=True)\n",
    "#     if (i==0):\n",
    "#         test_X = X_val\n",
    "#         test_y = y_val\n",
    "#         continue\n",
    "#     test_X, test_y = merging_np(test_X, X_val, test_y, y_val )\n",
    "# X_test = test_X\n",
    "# y_test = test_y\n",
    "# np.save(\"./X_val\",X_test) \n",
    "# np.save(\"./y_val\",y_test)\n",
    "\n",
    "# del test_X, test_y\n",
    "    "
   ]
  },
  {
   "cell_type": "code",
   "execution_count": null,
   "metadata": {},
   "outputs": [],
   "source": [
    "# train_dataset.shuffle()\n",
    "model.fit(X_train ,y_train,\n",
    "          batch_size=batch_size\n",
    "          epochs=epochs, # --- train only for 1 epoch here for demonstration ---\n",
    "          validation_data=(X_val, y_val),\n",
    "          shuffle=True ,\n",
    "          callbacks=callbacks)\n",
    "model.evaluate(X_test,  y_test, verbose=2)"
   ]
  },
  {
   "cell_type": "code",
   "execution_count": 9,
   "metadata": {},
   "outputs": [
    {
     "name": "stdout",
     "output_type": "stream",
     "text": [
      "200000/1 - 165s - loss: 0.4024 - accuracy: 0.8231\n"
     ]
    },
    {
     "data": {
      "text/plain": [
       "[0.407078766746521, 0.82312]"
      ]
     },
     "execution_count": 9,
     "metadata": {},
     "output_type": "execute_result"
    }
   ],
   "source": [
    "a = model.evaluate(X_test,  y_test, verbose=2)\n",
    "np.save(\"./loss_acc\",a)\n",
    "a\n"
   ]
  },
  {
   "cell_type": "code",
   "execution_count": 9,
   "metadata": {},
   "outputs": [],
   "source": [
    "np.save(\"./loss_acc\",a)"
   ]
  },
  {
   "cell_type": "code",
   "execution_count": null,
   "metadata": {},
   "outputs": [],
   "source": [
    "# model.save('./my_ParticleNet.h5')\n",
    "model.save('./MCGCNN_f.h5')"
   ]
  },
  {
   "cell_type": "code",
   "execution_count": null,
   "metadata": {},
   "outputs": [],
   "source": [
    "# model.save('./MCGCNN_f.h5')\n",
    "model.save('./ParticleNet_f.h5')"
   ]
  },
  {
   "cell_type": "code",
   "execution_count": 5,
   "metadata": {},
   "outputs": [],
   "source": [
    "from sklearn.metrics import roc_curve, auc\n",
    "import pandas as pd\n",
    "import csv\n",
    "import matplotlib.pyplot as plt\n",
    "import pickle"
   ]
  },
  {
   "cell_type": "code",
   "execution_count": 3,
   "metadata": {},
   "outputs": [],
   "source": [
    "# model = tf.keras.models.load_model('./ParticleNet.h5')\n",
    "# model = tf.keras.models.load_model('./MCGCNN.h5')\n",
    "model = tf.keras.models.load_model('./train/MCGCNN_best.h5')  "
   ]
  },
  {
   "cell_type": "code",
   "execution_count": 6,
   "metadata": {},
   "outputs": [
    {
     "name": "stdout",
     "output_type": "stream",
     "text": [
      "The area under the curves are:\n",
      "AUC:0.895834689\n"
     ]
    },
    {
     "data": {
      "image/png": "[encoded data removed]",
      "text/plain": [
       "<Figure size 576x1152 with 1 Axes>"
      ]
     },
     "metadata": {
      "needs_background": "light"
     },
     "output_type": "display_data"
    }
   ],
   "source": [
    "# y_test=[i[1] for i in testpojen_datay]\n",
    "X_test = np.load(\"./X_test.npy\",allow_pickle=True)\n",
    "X_test = X_test.item()\n",
    "y_test = np.load(\"./y_test.npy\",allow_pickle=True)\n",
    "y_score=model.predict(X_test)[:,0]\n",
    "test=[i[1] for i in y_test]\n",
    "fpr , tpr , thresholds = roc_curve ( test , y_score)\n",
    "roc_auc = auc(tpr,fpr )\n",
    "print(\"The area under the curves are:\")\n",
    "print(\"AUC:{0:.9f}\".format(roc_auc))\n",
    "# FalsePositiveFull, TruePositiveFull, ThresholdFull = metrics.roc_curve(y_test,Predictions)\n",
    "plt.figure(figsize=(8,16))\n",
    "plt.subplot(2,1,1)\n",
    "\n",
    "plt.plot(tpr,fpr, label='Fully supervised: AUC={0:.9f}'.format(roc_auc))\n",
    "plt.ylabel('1-False Positive Rate',fontsize=20)\n",
    "plt.xlabel('True Positive Rate',fontsize=20)\n",
    "plt.plot([0, 1], [0, 1], 'k--')\n",
    "plt.legend(bbox_to_anchor=(0.8, -0.17),ncol=2)\n",
    "plt.tight_layout()\n",
    "plt.savefig(\"./Myneighnorhood_Particlenet_roc.png\")\n",
    "np.save(\"./myfpr\",fpr)\n",
    "np.save(\"./mytpr\",tpr)\n",
    "#plt.close()\n",
    "\n",
    "# plt.subplot(2,1,2) \n",
    "# LOSS = pd.read_csv('./training_log.csv')\n",
    "# plt.plot(LOSS[\"loss\"], label='loss',c='blue')\n",
    "# plt.plot(LOSS[\"val_loss\"], label='val_loss',c='red')\n",
    "# plt.ylabel('loss',fontsize=20)\n",
    "# plt.xlabel('epoch',fontsize=20)\n",
    "# plt.legend(bbox_to_anchor=(0.8, -0.17),ncol=2)\n",
    "# plt.tight_layout()\n",
    "\n",
    "#plt.savefig(\"./plot_3.png\")\n",
    "#plt.close()\n",
    "plt.show()"
   ]
  },
  {
   "cell_type": "code",
   "execution_count": 27,
   "metadata": {},
   "outputs": [],
   "source": [
    "# LOSS1 = pd.read_csv('./myparticlenet_training_log.csv')\n",
    "LOSS1 = pd.read_csv('./plot/2/myparticlenet_training_log.csv')"
   ]
  },
  {
   "cell_type": "code",
   "execution_count": 20,
   "metadata": {},
   "outputs": [],
   "source": [
    "label=[]\n",
    "for i in LOSS2:\n",
    "    label.append(i)"
   ]
  },
  {
   "cell_type": "code",
   "execution_count": 13,
   "metadata": {},
   "outputs": [],
   "source": [
    "LOSS1[label[1]] = LOSS1[label[1]].tolist()"
   ]
  },
  {
   "cell_type": "code",
   "execution_count": 28,
   "metadata": {},
   "outputs": [],
   "source": [
    "LOSS1 = LOSS1.append(LOSS1, ignore_index=True)"
   ]
  },
  {
   "cell_type": "code",
   "execution_count": 7,
   "metadata": {},
   "outputs": [
    {
     "data": {
      "image/png": "[encoded data removed]",
      "text/plain": [
       "<Figure size 576x576 with 1 Axes>"
      ]
     },
     "metadata": {
      "needs_background": "light"
     },
     "output_type": "display_data"
    }
   ],
   "source": [
    "plt.figure(figsize=(8,8))\n",
    "# LOSS = pd.read_csv('./myparticlenet_training_log.csv')\n",
    "# LOSS = pd.read_csv(\"./checkpoint.csv\")\n",
    "LOSS = pd.read_csv(\"./train/checkpoint.csv\")\n",
    "plt.title(\"learning_curve_batchsize_\"+str(batch_size)+\"_epochs_\"+str(epochs))\n",
    "plt.plot(LOSS[\"loss\"], label='loss',c='blue')\n",
    "plt.plot(LOSS[\"val_loss\"], label='val_loss',c='red')\n",
    "plt.plot(LOSS[\"accuracy\"], linestyle='--', label='accuracy',c='blue')\n",
    "plt.plot(LOSS[\"val_accuracy\"], linestyle='--', label='val_accuracy',c='red')\n",
    "plt.ylim([0.3,1])\n",
    "plt.ylabel('loss',fontsize=20)\n",
    "plt.xlabel('batch_1/10_epoch',fontsize=20)\n",
    "plt.legend(bbox_to_anchor=(0.8, -0.17),ncol=2)\n",
    "plt.tight_layout()\n",
    "plt.savefig(\"./myloss.png\")\n",
    "#plt.savefig(\"./plot_3.png\")\n",
    "#plt.close()\n",
    "plt.show()"
   ]
  },
  {
   "cell_type": "code",
   "execution_count": 8,
   "metadata": {},
   "outputs": [
    {
     "data": {
      "image/png": "[encoded data removed]",
      "text/plain": [
       "<Figure size 576x576 with 1 Axes>"
      ]
     },
     "metadata": {
      "needs_background": "light"
     },
     "output_type": "display_data"
    }
   ],
   "source": [
    "plt.figure(figsize=(8,8))\n",
    "x=[y_score[i] for i in range(len(y_score)) if y_test[i][1]!=0 ]\n",
    "y=[y_score[i] for i in range(len(y_score)) if y_test[i][1]!=1 ]\n",
    "plt.hist(x, label='gg',bins=50,alpha=0.5)\n",
    "plt.hist(y, label='qq',bins=50,alpha=0.5)\n",
    "plt.ylabel('# ',fontsize=20)\n",
    "plt.xlabel('Probability score',fontsize=20)\n",
    "plt.legend()\n",
    "plt.savefig(\"./Myneighnorhood_Particlenet_Prob.png\")\n",
    "np.save(\"./mygg\",x)\n",
    "np.save(\"./myqq\",y)"
   ]
  },
  {
   "cell_type": "code",
   "execution_count": 18,
   "metadata": {},
   "outputs": [
    {
     "data": {
      "text/plain": [
       "49123204.0"
      ]
     },
     "execution_count": 18,
     "metadata": {},
     "output_type": "execute_result"
    }
   ],
   "source": [
    "y[0]"
   ]
  },
  {
   "cell_type": "code",
   "execution_count": null,
   "metadata": {},
   "outputs": [],
   "source": []
  }
 ],
 "metadata": {
  "kernelspec": {
   "display_name": "Python 3",
   "language": "python",
   "name": "python3"
  },
  "language_info": {
   "codemirror_mode": {
    "name": "ipython",
    "version": 3
   },
   "file_extension": ".py",
   "mimetype": "text/x-python",
   "name": "python",
   "nbconvert_exporter": "python",
   "pygments_lexer": "ipython3",
   "version": "3.6.9"
  }
 },
 "nbformat": 4,
 "nbformat_minor": 4
}
